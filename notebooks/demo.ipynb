{
 "cells": [
  {
   "cell_type": "code",
   "execution_count": 1,
   "metadata": {},
   "outputs": [],
   "source": [
    "# Add relevant Jupyter notebook extensions \n",
    "%load_ext autoreload\n",
    "%autoreload 2"
   ]
  },
  {
   "cell_type": "code",
   "execution_count": 2,
   "metadata": {},
   "outputs": [
    {
     "name": "stdout",
     "output_type": "stream",
     "text": [
      "['/opt/anaconda3/lib/python312.zip', '/opt/anaconda3/lib/python3.12', '/opt/anaconda3/lib/python3.12/lib-dynload', '', '/Users/angelinnali/.venvs/B1-first-venv/lib/python3.12/site-packages', '/Users/angelinnali/Documents/Oxford/Yr3/B1_ComputingEngineering/b1-coding-practical-mt24']\n"
     ]
    }
   ],
   "source": [
    "# You can double-check your Python path like this...\n",
    "import sys  \n",
    "print(sys.path)"
   ]
  },
  {
   "cell_type": "code",
   "execution_count": 3,
   "metadata": {},
   "outputs": [
    {
     "name": "stdout",
     "output_type": "stream",
     "text": [
      "<class 'uuv_mission.dynamic.Mission'> 100 [0.         2.9239131  5.51432416 7.48758532 8.65202856]\n"
     ]
    }
   ],
   "source": [
    "# check mission loading\n",
    "from uuv_mission.dynamic import Mission\n",
    "mission = Mission.from_csv(\"../data/mission.csv\")\n",
    "print(type(mission), len(mission.reference), mission.reference[:5]) \n",
    " # Print some info about the mission to double-check it loaded correctly"
   ]
  },
  {
   "cell_type": "markdown",
   "metadata": {},
   "source": [
    "# Simulate closed-loop\n",
    "After implementing your control functionality, you can simulate the closed-loop with code that looks something like this..."
   ]
  },
  {
   "cell_type": "code",
   "execution_count": 6,
   "metadata": {},
   "outputs": [
    {
     "ename": "ModuleNotFoundError",
     "evalue": "No module named 'PD_Controller'",
     "output_type": "error",
     "traceback": [
      "\u001b[31m---------------------------------------------------------------------------\u001b[39m",
      "\u001b[31mModuleNotFoundError\u001b[39m                       Traceback (most recent call last)",
      "\u001b[36mCell\u001b[39m\u001b[36m \u001b[39m\u001b[32mIn[6]\u001b[39m\u001b[32m, line 4\u001b[39m\n\u001b[32m      2\u001b[39m \u001b[38;5;28;01mimport\u001b[39;00m\u001b[38;5;250m \u001b[39m\u001b[34;01mnumpy\u001b[39;00m\u001b[38;5;250m \u001b[39m\u001b[38;5;28;01mas\u001b[39;00m\u001b[38;5;250m \u001b[39m\u001b[34;01mnp\u001b[39;00m\n\u001b[32m      3\u001b[39m \u001b[38;5;28;01mfrom\u001b[39;00m\u001b[38;5;250m \u001b[39m\u001b[34;01muuv_mission\u001b[39;00m\u001b[34;01m.\u001b[39;00m\u001b[34;01mdynamic\u001b[39;00m\u001b[38;5;250m \u001b[39m\u001b[38;5;28;01mimport\u001b[39;00m Submarine, ClosedLoop, Mission\n\u001b[32m----> \u001b[39m\u001b[32m4\u001b[39m \u001b[38;5;28;01mfrom\u001b[39;00m\u001b[38;5;250m \u001b[39m\u001b[34;01muuv_mission\u001b[39;00m\u001b[34;01m.\u001b[39;00m\u001b[34;01mcontrol\u001b[39;00m\u001b[38;5;250m \u001b[39m\u001b[38;5;28;01mimport\u001b[39;00m PDController\n\u001b[32m      6\u001b[39m \u001b[38;5;66;03m# Load mission from the data folder\u001b[39;00m\n\u001b[32m      7\u001b[39m mission = Mission.from_csv(\u001b[33m\"\u001b[39m\u001b[33m../data/mission.csv\u001b[39m\u001b[33m\"\u001b[39m) \u001b[38;5;66;03m# You must implement this method in the Mission class\u001b[39;00m\n",
      "\u001b[36mFile \u001b[39m\u001b[32m~/Documents/Oxford/Yr3/B1_ComputingEngineering/b1-coding-practical-mt24/uuv_mission/control/__init__.py:1\u001b[39m\n\u001b[32m----> \u001b[39m\u001b[32m1\u001b[39m \u001b[38;5;28;01mfrom\u001b[39;00m\u001b[38;5;250m \u001b[39m\u001b[34;01mPD_Controller\u001b[39;00m\u001b[38;5;250m \u001b[39m\u001b[38;5;28;01mimport\u001b[39;00m PDController\n",
      "\u001b[31mModuleNotFoundError\u001b[39m: No module named 'PD_Controller'"
     ]
    }
   ],
   "source": [
    "# Import relevant modules\n",
    "import numpy as np\n",
    "from uuv_mission.dynamic import Submarine, ClosedLoop, Mission\n",
    "from uuv_mission.control import PDController\n",
    "\n",
    "# Load mission from the data folder\n",
    "mission = Mission.from_csv(\"../data/mission.csv\") # You must implement this method in the Mission class\n",
    "\n",
    "# Create submarine, controller, and closed-loop system\n",
    "sub = Submarine()\n",
    "controller = PDController(Kp=0.15, Kd=0.6)  # You can adjust the gains as needed\n",
    "closed_loop = ClosedLoop(sub, controller)\n",
    "\n",
    "# Simulate the closed-loop system with random disturbances\n",
    "trajectory = closed_loop.simulate_with_random_disturbances(mission)\n",
    "trajectory.plot_completed_mission(mission)\n",
    "\n",
    "\n",
    "# Experiment with different PD controller gains\n",
    "for Kp, Kd in [(0.1, 0.9), (0.12, 0.8)]:\n",
    "    controller = PDController(Kp=Kp, Kd=Kd)\n",
    "    loop = ClosedLoop(sub, controller)\n",
    "    trajectory = loop.simulate_with_random_disturbances(mission, variance=0.2)\n",
    "    print(f\"Kp={Kp}, Kd={Kd}\")\n",
    "    trajectory.plot_completed_mission(mission)\n"
   ]
  }
 ],
 "metadata": {
  "kernelspec": {
   "display_name": "B1-first-venv",
   "language": "python",
   "name": "python3"
  },
  "language_info": {
   "codemirror_mode": {
    "name": "ipython",
    "version": 3
   },
   "file_extension": ".py",
   "mimetype": "text/x-python",
   "name": "python",
   "nbconvert_exporter": "python",
   "pygments_lexer": "ipython3",
   "version": "3.12.7"
  }
 },
 "nbformat": 4,
 "nbformat_minor": 2
}
